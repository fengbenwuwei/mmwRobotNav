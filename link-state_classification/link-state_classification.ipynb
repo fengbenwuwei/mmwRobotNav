{
 "cells": [
  {
   "cell_type": "code",
   "execution_count": 1,
   "metadata": {},
   "outputs": [],
   "source": [
    "# multi-class classification with Keras\n",
    "import pandas as pd\n",
    "import numpy as np\n",
    "import collections\n",
    "from keras.models import Sequential\n",
    "from keras import optimizers\n",
    "from keras.layers import Dense\n",
    "from keras.wrappers.scikit_learn import KerasClassifier\n",
    "from keras.utils import np_utils\n",
    "from sklearn.model_selection import cross_val_score\n",
    "from sklearn.model_selection import KFold\n",
    "from sklearn.preprocessing import LabelEncoder\n",
    "from sklearn.pipeline import Pipeline\n",
    "import os"
   ]
  },
  {
   "cell_type": "code",
   "execution_count": 2,
   "metadata": {},
   "outputs": [],
   "source": [
    "def data_scaler(csv):\n",
    "    \n",
    "    angle_columns = ['aoaAzResult_1','aoaAzResult_2','aoaAzResult_3',\n",
    "            'aoaAzResult_4','aoaAzResult_5','aodAzResult_1',\n",
    "            'aodAzResult_2','aodAzResult_3','aodAzResult_4',\n",
    "                     'aodAzResult_5']\n",
    "    snr_columns = ['snrResult_1','snrResult_2',\n",
    "           'snrResult_3','snrResult_4','snrResult_5']\n",
    "    csv[angle_columns] = csv[angle_columns]/180.0\n",
    "    snr_max = np.max(csv['snrResult_1'])\n",
    "    csv[snr_columns] = csv[snr_columns]/snr_max\n",
    "    \n",
    "    return csv"
   ]
  },
  {
   "cell_type": "code",
   "execution_count": 3,
   "metadata": {},
   "outputs": [],
   "source": [
    "# load dataset\n",
    "# train on 18 maps\n",
    "train_map_names = ['Colebrook',\\\n",
    " 'Dryville','Dunmor','Goffs','Hainesburg','Hambleton',\\\n",
    " 'Hominy','Kerrtown','Maryhill','Mesic','Micanopy','Nicut',\\\n",
    " 'Nimmons','Nuevo','Pettigrew','Placida','Quantico','Rancocas']\n",
    "data_path = []\n",
    "\n",
    "for mapi in train_map_names:\n",
    "    data_path.append('.\\\\Data\\\\'+mapi+'\\\\'+mapi+'_Tx_')\n",
    "\n",
    "n_tx = 10\n",
    "_columns = ['aoaAzResult_1','aoaAzResult_2','aoaAzResult_3',\n",
    "            'aoaAzResult_4','aoaAzResult_5','aodAzResult_1',\n",
    "            'aodAzResult_2','aodAzResult_3','aodAzResult_4',\n",
    "            'aodAzResult_5','snrResult_1','snrResult_2',\n",
    "           'snrResult_3','snrResult_4','snrResult_5']\n",
    "# Training data\n",
    "# train in following TX \n",
    "train_list = [1,2,3,4,5,6,7,8,9,10]\n",
    "X_train = np.array([])\n",
    "for k in range(len(data_path)):\n",
    "    for i in train_list:\n",
    "        file_name = data_path[k]+str(i)+'_beam_search.csv'\n",
    "        csv_data = pd.read_csv(file_name)\n",
    "        csv_data = data_scaler(csv_data)\n",
    "        n_rx = csv_data.shape[0]\n",
    "        if len(X_train) == 0:\n",
    "            X_train = np.array(csv_data[_columns])\n",
    "            y_train = np.array(csv_data['linkState'])\n",
    "        else:\n",
    "            X_train = np.concatenate((X_train, np.array(csv_data[_columns])))\n",
    "            y = np.array(csv_data['linkState'])\n",
    "            y_train = np.concatenate((y_train,y))\n"
   ]
  },
  {
   "cell_type": "code",
   "execution_count": 4,
   "metadata": {},
   "outputs": [
    {
     "data": {
      "text/plain": [
       "(483690, 15)"
      ]
     },
     "execution_count": 4,
     "metadata": {},
     "output_type": "execute_result"
    }
   ],
   "source": [
    "X_train.shape"
   ]
  },
  {
   "cell_type": "code",
   "execution_count": 5,
   "metadata": {},
   "outputs": [
    {
     "data": {
      "text/plain": [
       "array([-0.65555556, -0.6       , -0.87777778, -0.30555556, -0.72222222,\n",
       "        0.70833333,  0.70833333,  0.70833333,  0.66666667,  0.75      ,\n",
       "        0.89427631,  0.48047407,  0.41418833,  0.25984806,  0.21845871])"
      ]
     },
     "execution_count": 5,
     "metadata": {},
     "output_type": "execute_result"
    }
   ],
   "source": [
    "X_train[1,:]"
   ]
  },
  {
   "cell_type": "code",
   "execution_count": 6,
   "metadata": {},
   "outputs": [
    {
     "data": {
      "text/plain": [
       "array([0, 1, 2, 3], dtype=int64)"
      ]
     },
     "execution_count": 6,
     "metadata": {},
     "output_type": "execute_result"
    }
   ],
   "source": [
    "np.unique(y_train)"
   ]
  },
  {
   "cell_type": "code",
   "execution_count": 7,
   "metadata": {},
   "outputs": [
    {
     "data": {
      "text/plain": [
       "array([2, 2, 2, ..., 0, 0, 0], dtype=int64)"
      ]
     },
     "execution_count": 7,
     "metadata": {},
     "output_type": "execute_result"
    }
   ],
   "source": [
    "y_train"
   ]
  },
  {
   "cell_type": "code",
   "execution_count": 8,
   "metadata": {},
   "outputs": [],
   "source": [
    "# Test data\n",
    "# test on 20 maps\n",
    "test_map_names=['Adrian','Bowlus','Reyno','Roeville','Sanctuary','Sawpit','Seward','Shelbiana',\\\n",
    " 'Silas','Sodaville','Soldier','Spencerville','Spotswood',\\\n",
    "  'Springhill','Stilwell','Sumas','Superior','Woonsocket',\\\n",
    "               'Brevort','Capistrano']\n",
    "test_path = []\n",
    "for mapi in test_map_names:\n",
    "    test_path.append('.\\\\Data\\\\'+mapi+'\\\\'+mapi+'_Tx_')\n",
    "\n",
    "test_list = [1,2,3,4,5,6,7,8,9,10]\n",
    "X_test = np.array([])\n",
    "y_test = np.array([])\n",
    "nRx_ls = []\n",
    "for k in range(len(test_path)):\n",
    "    nRx = 0\n",
    "    for i in test_list:\n",
    "        file_name = test_path[k]+str(i)+'_beam_search.csv'\n",
    "        csv_data = pd.read_csv(file_name)\n",
    "        csv_data = data_scaler(csv_data)\n",
    "        n_rx = csv_data.shape[0]\n",
    "        if k == 0:\n",
    "            if i == 1:\n",
    "                nRx = n_rx\n",
    "                X_test = np.array(csv_data[_columns])\n",
    "                y_test = np.array(csv_data['linkState'])\n",
    "            else:\n",
    "                X_test = np.concatenate((X_test, np.array(csv_data[_columns])))\n",
    "                y = np.array(csv_data['linkState'])\n",
    "                y_test = np.concatenate((y_test,y))\n",
    "        else:\n",
    "            if i == 1:\n",
    "                nRx = n_rx\n",
    "            X_test = np.concatenate((X_test, np.array(csv_data[_columns])))\n",
    "            y = np.array(csv_data['linkState'])\n",
    "            y_test = np.concatenate((y_test,y))\n",
    "    nRx_ls.append(nRx)"
   ]
  },
  {
   "cell_type": "code",
   "execution_count": 9,
   "metadata": {},
   "outputs": [
    {
     "data": {
      "text/plain": [
       "(563810, 15)"
      ]
     },
     "execution_count": 9,
     "metadata": {},
     "output_type": "execute_result"
    }
   ],
   "source": [
    "X_test.shape"
   ]
  },
  {
   "cell_type": "code",
   "execution_count": 10,
   "metadata": {},
   "outputs": [
    {
     "data": {
      "text/plain": [
       "array([0, 1, 2, 3], dtype=int64)"
      ]
     },
     "execution_count": 10,
     "metadata": {},
     "output_type": "execute_result"
    }
   ],
   "source": [
    "np.unique(y_test)\n",
    "# 0=>Outage; 1=>LOS; 2=>1st NLOS; 3=>2nd+ NLOS"
   ]
  },
  {
   "cell_type": "code",
   "execution_count": 11,
   "metadata": {},
   "outputs": [],
   "source": [
    "# encode class values as integers\n",
    "encoder = LabelEncoder()\n",
    "encoder.fit(y_train)\n",
    "encoded_Y = encoder.transform(y_train)\n",
    "encoded_Y_tr = encoder.transform(y_test)\n",
    "# convert integers to dummy variables (i.e. one hot encoded)\n",
    "y_tr = np_utils.to_categorical(encoded_Y)\n",
    "y_ts = np_utils.to_categorical(encoded_Y_tr)"
   ]
  },
  {
   "cell_type": "code",
   "execution_count": null,
   "metadata": {},
   "outputs": [
    {
     "name": "stdout",
     "output_type": "stream",
     "text": [
      "Epoch 1/100\n",
      "473/473 [==============================] - 3s 4ms/step - loss: 1.2508 - accuracy: 0.3407 - val_loss: 0.6409 - val_accuracy: 0.7555\n",
      "Epoch 2/100\n",
      "473/473 [==============================] - 1s 3ms/step - loss: 0.5999 - accuracy: 0.7504 - val_loss: 0.4504 - val_accuracy: 0.8088\n",
      "Epoch 3/100\n",
      "473/473 [==============================] - 2s 3ms/step - loss: 0.4550 - accuracy: 0.8066 - val_loss: 0.3757 - val_accuracy: 0.8453\n",
      "Epoch 4/100\n",
      "473/473 [==============================] - 1s 3ms/step - loss: 0.4017 - accuracy: 0.8291 - val_loss: 0.3630 - val_accuracy: 0.8476\n",
      "Epoch 5/100\n",
      "473/473 [==============================] - 1s 3ms/step - loss: 0.3897 - accuracy: 0.8330 - val_loss: 0.3573 - val_accuracy: 0.8488\n",
      "Epoch 6/100\n",
      "473/473 [==============================] - 1s 3ms/step - loss: 0.3850 - accuracy: 0.8342 - val_loss: 0.3519 - val_accuracy: 0.8513\n",
      "Epoch 7/100\n",
      "473/473 [==============================] - 1s 3ms/step - loss: 0.3804 - accuracy: 0.8361 - val_loss: 0.3516 - val_accuracy: 0.8506\n",
      "Epoch 8/100\n",
      "473/473 [==============================] - 1s 3ms/step - loss: 0.3806 - accuracy: 0.8358 - val_loss: 0.3498 - val_accuracy: 0.8520\n",
      "Epoch 9/100\n",
      "473/473 [==============================] - 1s 3ms/step - loss: 0.3789 - accuracy: 0.8365 - val_loss: 0.3504 - val_accuracy: 0.8513\n",
      "Epoch 10/100\n",
      "473/473 [==============================] - 1s 3ms/step - loss: 0.3786 - accuracy: 0.8370 - val_loss: 0.3475 - val_accuracy: 0.8534\n",
      "Epoch 11/100\n",
      "473/473 [==============================] - 1s 3ms/step - loss: 0.3776 - accuracy: 0.8373 - val_loss: 0.3462 - val_accuracy: 0.8537\n",
      "Epoch 12/100\n",
      "473/473 [==============================] - 1s 3ms/step - loss: 0.3770 - accuracy: 0.8382 - val_loss: 0.3463 - val_accuracy: 0.8537\n",
      "Epoch 13/100\n",
      "473/473 [==============================] - 1s 3ms/step - loss: 0.3757 - accuracy: 0.8387 - val_loss: 0.3454 - val_accuracy: 0.8546\n",
      "Epoch 14/100\n",
      "473/473 [==============================] - 1s 3ms/step - loss: 0.3752 - accuracy: 0.8386 - val_loss: 0.3436 - val_accuracy: 0.8556\n",
      "Epoch 15/100\n",
      "473/473 [==============================] - 1s 3ms/step - loss: 0.3759 - accuracy: 0.8382 - val_loss: 0.3471 - val_accuracy: 0.8519\n",
      "Epoch 16/100\n",
      "473/473 [==============================] - 1s 3ms/step - loss: 0.3727 - accuracy: 0.8398 - val_loss: 0.3406 - val_accuracy: 0.8568\n",
      "Epoch 17/100\n",
      "473/473 [==============================] - 1s 3ms/step - loss: 0.3693 - accuracy: 0.8419 - val_loss: 0.3385 - val_accuracy: 0.8570\n",
      "Epoch 18/100\n",
      "473/473 [==============================] - 1s 3ms/step - loss: 0.3614 - accuracy: 0.8452 - val_loss: 0.3301 - val_accuracy: 0.8626\n",
      "Epoch 19/100\n",
      "473/473 [==============================] - 1s 3ms/step - loss: 0.3518 - accuracy: 0.8504 - val_loss: 0.3192 - val_accuracy: 0.8673\n",
      "Epoch 20/100\n",
      "473/473 [==============================] - 1s 3ms/step - loss: 0.3404 - accuracy: 0.8558 - val_loss: 0.3106 - val_accuracy: 0.8721\n",
      "Epoch 21/100\n",
      "473/473 [==============================] - 1s 3ms/step - loss: 0.3354 - accuracy: 0.8585 - val_loss: 0.3060 - val_accuracy: 0.8758\n",
      "Epoch 22/100\n",
      "473/473 [==============================] - 1s 3ms/step - loss: 0.3305 - accuracy: 0.8613 - val_loss: 0.3047 - val_accuracy: 0.8759\n",
      "Epoch 23/100\n",
      "473/473 [==============================] - 1s 3ms/step - loss: 0.3277 - accuracy: 0.8627 - val_loss: 0.3018 - val_accuracy: 0.8775\n",
      "Epoch 24/100\n",
      "473/473 [==============================] - 1s 3ms/step - loss: 0.3261 - accuracy: 0.8636 - val_loss: 0.3008 - val_accuracy: 0.8767\n",
      "Epoch 25/100\n",
      "473/473 [==============================] - 1s 3ms/step - loss: 0.3234 - accuracy: 0.8649 - val_loss: 0.2967 - val_accuracy: 0.8797\n",
      "Epoch 26/100\n",
      "473/473 [==============================] - 1s 3ms/step - loss: 0.3201 - accuracy: 0.8660 - val_loss: 0.2940 - val_accuracy: 0.8803\n",
      "Epoch 27/100\n",
      "473/473 [==============================] - 1s 3ms/step - loss: 0.3176 - accuracy: 0.8669 - val_loss: 0.2851 - val_accuracy: 0.8843\n",
      "Epoch 28/100\n",
      "473/473 [==============================] - 1s 3ms/step - loss: 0.3089 - accuracy: 0.8701 - val_loss: 0.2802 - val_accuracy: 0.8875\n",
      "Epoch 29/100\n",
      "473/473 [==============================] - 1s 3ms/step - loss: 0.3046 - accuracy: 0.8729 - val_loss: 0.2760 - val_accuracy: 0.8896\n",
      "Epoch 30/100\n",
      "473/473 [==============================] - 1s 3ms/step - loss: 0.3022 - accuracy: 0.8744 - val_loss: 0.2751 - val_accuracy: 0.8910\n",
      "Epoch 31/100\n",
      "473/473 [==============================] - 1s 3ms/step - loss: 0.3008 - accuracy: 0.8752 - val_loss: 0.2693 - val_accuracy: 0.8923\n",
      "Epoch 32/100\n",
      "473/473 [==============================] - 2s 3ms/step - loss: 0.2966 - accuracy: 0.8767 - val_loss: 0.2692 - val_accuracy: 0.8925\n",
      "Epoch 33/100\n",
      "473/473 [==============================] - 1s 3ms/step - loss: 0.2954 - accuracy: 0.8774 - val_loss: 0.2657 - val_accuracy: 0.8934\n",
      "Epoch 34/100\n",
      "473/473 [==============================] - 1s 3ms/step - loss: 0.2948 - accuracy: 0.8772 - val_loss: 0.2674 - val_accuracy: 0.8938\n",
      "Epoch 35/100\n",
      "473/473 [==============================] - 1s 3ms/step - loss: 0.2938 - accuracy: 0.8775 - val_loss: 0.2664 - val_accuracy: 0.8937\n",
      "Epoch 36/100\n",
      "473/473 [==============================] - 1s 3ms/step - loss: 0.2927 - accuracy: 0.8784 - val_loss: 0.2663 - val_accuracy: 0.8944\n",
      "Epoch 37/100\n",
      "473/473 [==============================] - 1s 3ms/step - loss: 0.2945 - accuracy: 0.8778 - val_loss: 0.2626 - val_accuracy: 0.8951\n",
      "Epoch 38/100\n",
      "473/473 [==============================] - 2s 3ms/step - loss: 0.2938 - accuracy: 0.8777 - val_loss: 0.2631 - val_accuracy: 0.8946\n",
      "Epoch 39/100\n",
      "473/473 [==============================] - 2s 3ms/step - loss: 0.2941 - accuracy: 0.8781 - val_loss: 0.2649 - val_accuracy: 0.8952\n",
      "Epoch 40/100\n",
      "473/473 [==============================] - 1s 3ms/step - loss: 0.2918 - accuracy: 0.8785 - val_loss: 0.2619 - val_accuracy: 0.8949\n",
      "Epoch 41/100\n",
      "473/473 [==============================] - 1s 3ms/step - loss: 0.2932 - accuracy: 0.8779 - val_loss: 0.2613 - val_accuracy: 0.8948\n",
      "Epoch 42/100\n",
      "473/473 [==============================] - 2s 3ms/step - loss: 0.2927 - accuracy: 0.8782 - val_loss: 0.2628 - val_accuracy: 0.8954\n",
      "Epoch 43/100\n",
      "473/473 [==============================] - 1s 3ms/step - loss: 0.2908 - accuracy: 0.8793 - val_loss: 0.2627 - val_accuracy: 0.8950\n",
      "Epoch 44/100\n",
      "473/473 [==============================] - 2s 4ms/step - loss: 0.2911 - accuracy: 0.8790 - val_loss: 0.2614 - val_accuracy: 0.8957\n",
      "Epoch 45/100\n",
      "473/473 [==============================] - 2s 3ms/step - loss: 0.2910 - accuracy: 0.8785 - val_loss: 0.2636 - val_accuracy: 0.8948\n",
      "Epoch 46/100\n",
      "473/473 [==============================] - 2s 4ms/step - loss: 0.2919 - accuracy: 0.8786 - val_loss: 0.2614 - val_accuracy: 0.8946\n",
      "Epoch 47/100\n",
      "473/473 [==============================] - 2s 3ms/step - loss: 0.2926 - accuracy: 0.8783 - val_loss: 0.2651 - val_accuracy: 0.8958\n",
      "Epoch 48/100\n",
      "473/473 [==============================] - 1s 3ms/step - loss: 0.2923 - accuracy: 0.8788 - val_loss: 0.2608 - val_accuracy: 0.8953\n",
      "Epoch 49/100\n",
      "473/473 [==============================] - 2s 3ms/step - loss: 0.2917 - accuracy: 0.8787 - val_loss: 0.2607 - val_accuracy: 0.8953\n",
      "Epoch 50/100\n",
      "473/473 [==============================] - 1s 3ms/step - loss: 0.2919 - accuracy: 0.8786 - val_loss: 0.2642 - val_accuracy: 0.8950\n",
      "Epoch 51/100\n",
      "473/473 [==============================] - 1s 3ms/step - loss: 0.2921 - accuracy: 0.8784 - val_loss: 0.2618 - val_accuracy: 0.8946\n",
      "Epoch 52/100\n",
      "473/473 [==============================] - 2s 3ms/step - loss: 0.2925 - accuracy: 0.8783 - val_loss: 0.2638 - val_accuracy: 0.8958\n",
      "Epoch 53/100\n",
      "473/473 [==============================] - 1s 3ms/step - loss: 0.2924 - accuracy: 0.8784 - val_loss: 0.2627 - val_accuracy: 0.8957\n",
      "Epoch 54/100\n",
      "473/473 [==============================] - 1s 3ms/step - loss: 0.2914 - accuracy: 0.8792 - val_loss: 0.2614 - val_accuracy: 0.8961\n",
      "Epoch 55/100\n",
      "473/473 [==============================] - 2s 3ms/step - loss: 0.2910 - accuracy: 0.8789 - val_loss: 0.2615 - val_accuracy: 0.8951\n",
      "Epoch 56/100\n",
      "473/473 [==============================] - 2s 3ms/step - loss: 0.2933 - accuracy: 0.8780 - val_loss: 0.2631 - val_accuracy: 0.8957\n",
      "Epoch 57/100\n",
      "473/473 [==============================] - 2s 3ms/step - loss: 0.2917 - accuracy: 0.8787 - val_loss: 0.2646 - val_accuracy: 0.8959\n"
     ]
    },
    {
     "name": "stdout",
     "output_type": "stream",
     "text": [
      "Epoch 58/100\n",
      "473/473 [==============================] - 2s 3ms/step - loss: 0.2917 - accuracy: 0.8783 - val_loss: 0.2619 - val_accuracy: 0.8958\n",
      "Epoch 59/100\n",
      "473/473 [==============================] - 1s 3ms/step - loss: 0.2904 - accuracy: 0.8796 - val_loss: 0.2631 - val_accuracy: 0.8962\n",
      "Epoch 60/100\n",
      "473/473 [==============================] - 1s 3ms/step - loss: 0.2908 - accuracy: 0.8791 - val_loss: 0.2606 - val_accuracy: 0.8962\n",
      "Epoch 61/100\n",
      "473/473 [==============================] - 1s 3ms/step - loss: 0.2911 - accuracy: 0.8789 - val_loss: 0.2604 - val_accuracy: 0.8958\n",
      "Epoch 62/100\n",
      "473/473 [==============================] - 1s 3ms/step - loss: 0.2921 - accuracy: 0.8785 - val_loss: 0.2602 - val_accuracy: 0.8951\n",
      "Epoch 63/100\n",
      "473/473 [==============================] - 1s 3ms/step - loss: 0.2915 - accuracy: 0.8795 - val_loss: 0.2603 - val_accuracy: 0.8959\n",
      "Epoch 64/100\n",
      "473/473 [==============================] - 1s 3ms/step - loss: 0.2908 - accuracy: 0.8793 - val_loss: 0.2639 - val_accuracy: 0.8956\n",
      "Epoch 65/100\n",
      "473/473 [==============================] - 1s 3ms/step - loss: 0.2922 - accuracy: 0.8787 - val_loss: 0.2598 - val_accuracy: 0.8958\n",
      "Epoch 66/100\n",
      "360/473 [=====================>........] - ETA: 0s - loss: 0.2909 - accuracy: 0.8791"
     ]
    }
   ],
   "source": [
    "# create model\n",
    "model = Sequential()\n",
    "model.add(Dense(10, input_dim=15, activation='relu'))\n",
    "model.add(Dense(6, input_dim=10, activation='relu'))\n",
    "model.add(Dense(4, activation='softmax'))\n",
    "# Compile model\n",
    "opt = optimizers.Adam(lr=0.001)\n",
    "model.compile(loss='categorical_crossentropy', optimizer='adam', metrics=['accuracy'])\n",
    "hist = model.fit(X_train, y_tr, epochs=100, batch_size=1024, validation_data=(X_test,y_ts))"
   ]
  },
  {
   "cell_type": "code",
   "execution_count": 19,
   "metadata": {},
   "outputs": [],
   "source": [
    "model.save_weights(\"aoa_aod_model\",save_format='h5')"
   ]
  },
  {
   "cell_type": "code",
   "execution_count": 22,
   "metadata": {},
   "outputs": [
    {
     "data": {
      "image/png": "[encoded data removed]",
      "text/plain": [
       "<Figure size 432x288 with 1 Axes>"
      ]
     },
     "metadata": {
      "needs_background": "light"
     },
     "output_type": "display_data"
    }
   ],
   "source": [
    "import matplotlib\n",
    "import matplotlib.pyplot as plt\n",
    "%matplotlib inline\n",
    "train_acc= hist.history['accuracy']\n",
    "val_acc = hist.history['val_accuracy']\n",
    "nepochs = len(val_acc)\n",
    "plt.plot(np.arange(1,nepochs+1), train_acc, '.-', linewidth=1)\n",
    "plt.plot(np.arange(1,nepochs+1), val_acc, '.-', linewidth=1)\n",
    "plt.grid()\n",
    "plt.xlabel('Epochs', fontsize=14)\n",
    "plt.ylabel('Accuracy', fontsize=14)\n",
    "plt.legend(['train','validation'],loc='lower right',fontsize=14)\n",
    "plt.savefig('acc.png', dpi=500)"
   ]
  },
  {
   "cell_type": "code",
   "execution_count": 30,
   "metadata": {},
   "outputs": [
    {
     "data": {
      "image/png": "[encoded data removed]",
      "text/plain": [
       "<Figure size 432x288 with 1 Axes>"
      ]
     },
     "metadata": {
      "needs_background": "light"
     },
     "output_type": "display_data"
    }
   ],
   "source": [
    "fig = plt.figure()\n",
    "loss = hist.history['loss']\n",
    "val_loss = hist.history['val_loss']\n",
    "plt.semilogy(np.arange(1,nepochs+1), loss, '.-')\n",
    "plt.semilogy(np.arange(1,nepochs+1), val_loss, '.-')\n",
    "plt.xlabel('Epochs', fontsize=14)\n",
    "plt.ylabel('Loss', fontsize=14)\n",
    "plt.grid()\n",
    "plt.legend(['train','validation'],loc='upper right', fontsize=14)\n",
    "plt.savefig('loss.png', bbox_inches='tight',dpi=500)"
   ]
  },
  {
   "cell_type": "code",
   "execution_count": 21,
   "metadata": {},
   "outputs": [
    {
     "data": {
      "image/png": "[encoded data removed]",
      "text/plain": [
       "<Figure size 432x288 with 2 Axes>"
      ]
     },
     "metadata": {},
     "output_type": "display_data"
    }
   ],
   "source": [
    "from sklearn.metrics import confusion_matrix\n",
    "_prob = model.predict(X_test)\n",
    "y_pre = np.argmax(_prob, axis=-1)\n",
    "_cf_matrix = confusion_matrix(y_test, y_pre, normalize='true')\n",
    "import seaborn as sn\n",
    "df_cm = pd.DataFrame(_cf_matrix, range(4), range(4))\n",
    "axis_labels = ['Outage','LOS','1stNLOS','2rd+NLOS'] # labels for x-axis and y-axis\n",
    "sn.set(font_scale=1.4) # for label size\n",
    "sn.heatmap(df_cm, annot=True, xticklabels=axis_labels, yticklabels=axis_labels ) # font size\n",
    "plt.show()"
   ]
  }
 ],
 "metadata": {
  "kernelspec": {
   "display_name": "Python 3",
   "language": "python",
   "name": "python3"
  },
  "language_info": {
   "codemirror_mode": {
    "name": "ipython",
    "version": 3
   },
   "file_extension": ".py",
   "mimetype": "text/x-python",
   "name": "python",
   "nbconvert_exporter": "python",
   "pygments_lexer": "ipython3",
   "version": "3.8.10"
  }
 },
 "nbformat": 4,
 "nbformat_minor": 4
}
